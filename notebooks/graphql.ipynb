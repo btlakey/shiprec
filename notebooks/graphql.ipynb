{
 "cells": [
  {
   "cell_type": "code",
   "execution_count": 74,
   "id": "c6ff99ff",
   "metadata": {},
   "outputs": [],
   "source": [
    "import json\n",
    "import requests\n",
    "import datetime\n",
    "import pytz"
   ]
  },
  {
   "cell_type": "code",
   "execution_count": null,
   "id": "59f0a2c4",
   "metadata": {},
   "outputs": [],
   "source": []
  },
  {
   "cell_type": "code",
   "execution_count": 103,
   "id": "8cdac298",
   "metadata": {},
   "outputs": [],
   "source": [
    "# get amz-auth\n",
    "url = \"https://cognito-identity.us-east-1.amazonaws.com/\"\n",
    "payload = \"{\\\"IdentityId\\\":\\\"us-east-1:5cb98804-4a0e-4004-aeae-f8feb41b7be5\\\"}\"\n",
    "# now = datetime.datetime.now(pytz.timezone('US/Eastern'))\n",
    "now = datetime.datetime.utcnow()\n",
    "headers = {\n",
    "  'Referer': 'https://www.goodreads.com/',\n",
    "  'X-Amz-User-Agent': 'aws-sdk-js/2.711.0 callback',\n",
    "  'Content-Type': 'application/x-amz-json-1.1',\n",
    "  'X-Amz-Target': 'AWSCognitoIdentityService.GetCredentialsForIdentity',\n",
    "  'X-Amz-Content-Sha256': '6030ca7c1f3393246848c0323a5e26fea5b3f98543b92a2e409fdf030aba5245',\n",
    "  'Origin': 'https://www.goodreads.com',\n",
    "  'Connection': 'keep-alive',\n",
    "  'Sec-Fetch-Mode': 'cors'\n",
    "}\n",
    "response = requests.request(\"POST\", url, headers=headers, data=payload)\n",
    "auth = json.loads(response.text)[\"Credentials\"]\n",
    "# auth"
   ]
  },
  {
   "cell_type": "code",
   "execution_count": 102,
   "id": "19207277",
   "metadata": {},
   "outputs": [
    {
     "name": "stdout",
     "output_type": "stream",
     "text": [
      "{\n",
      "  \"errors\" : [ {\n",
      "    \"errorType\" : \"UnrecognizedClientException\",\n",
      "    \"message\" : \"The security token included in the request is invalid.\"\n",
      "  } ]\n",
      "}\n"
     ]
    }
   ],
   "source": [
    "# get reviews\n",
    "url = \"https://kxbwmqov6jgg3daaamb744ycu4.appsync-api.us-east-1.amazonaws.com/graphql\"\n",
    "payload = \"{\\\"operationName\\\":\\\"getReviews\\\",\\\"variables\\\":{\\\"filters\\\":{\\\"resourceType\\\":\\\"WORK\\\",\\\"resourceId\\\":\\\"kca://work/amzn1.gr.work.v1.jY9lyLQNtOx-St1AGeHgBA\\\"},\\\"pagination\\\":{\\\"limit\\\":30}},\\\"query\\\":\\\"query getReviews($filters: BookReviewsFilterInput!, $pagination: PaginationInput) {\\\\n  getReviews(filters: $filters, pagination: $pagination) {\\\\n    ...BookReviewsFragment\\\\n    __typename\\\\n  }\\\\n}\\\\n\\\\nfragment BookReviewsFragment on BookReviewsConnection {\\\\n  totalCount\\\\n  edges {\\\\n    node {\\\\n      ...ReviewCardFragment\\\\n      __typename\\\\n    }\\\\n    __typename\\\\n  }\\\\n  pageInfo {\\\\n    prevPageToken\\\\n    nextPageToken\\\\n    __typename\\\\n  }\\\\n  __typename\\\\n}\\\\n\\\\nfragment ReviewCardFragment on Review {\\\\n  __typename\\\\n  id\\\\n  creator {\\\\n    ...ReviewerProfileFragment\\\\n    __typename\\\\n  }\\\\n  recommendFor\\\\n  updatedAt\\\\n  createdAt\\\\n  spoilerStatus\\\\n  lastRevisionAt\\\\n  text\\\\n  rating\\\\n  shelving {\\\\n    shelf {\\\\n      name\\\\n      webUrl\\\\n      __typename\\\\n    }\\\\n    taggings {\\\\n      tag {\\\\n        name\\\\n        webUrl\\\\n        __typename\\\\n      }\\\\n      __typename\\\\n    }\\\\n    webUrl\\\\n    __typename\\\\n  }\\\\n  likeCount\\\\n  viewerHasLiked\\\\n  commentCount\\\\n}\\\\n\\\\nfragment ReviewerProfileFragment on User {\\\\n  id: legacyId\\\\n  imageUrlSquare\\\\n  isAuthor\\\\n  ...SocialUserFragment\\\\n  textReviewsCount\\\\n  viewerRelationshipStatus {\\\\n    isBlockedByViewer\\\\n    __typename\\\\n  }\\\\n  name\\\\n  webUrl\\\\n  contributor {\\\\n    id\\\\n    works {\\\\n      totalCount\\\\n      __typename\\\\n    }\\\\n    __typename\\\\n  }\\\\n  __typename\\\\n}\\\\n\\\\nfragment SocialUserFragment on User {\\\\n  viewerRelationshipStatus {\\\\n    isFollowing\\\\n    isFriend\\\\n    __typename\\\\n  }\\\\n  followersCount\\\\n  __typename\\\\n}\\\\n\\\"}\"\n",
    "amz_date = now.strftime(\"%Y%m%d\")\n",
    "amz_time = now.strftime(\"%H%M%S\")\n",
    "headers = {\n",
    "  'Accept': '*/*',\n",
    "  'Accept-Language': 'en-US,en;q=0.5',\n",
    "  'Accept-Encoding': 'gzip, deflate, br',\n",
    "  'Referer': 'https://www.goodreads.com/',\n",
    "  'content-type': 'application/json; charset=UTF-8',\n",
    "  'x-amz-date': f\"{amz_date}T{amz_time}Z\",\n",
    "  'X-Amz-Security-Token': auth[\"SessionToken\"],\n",
    "  'Authorization': f'AWS4-HMAC-SHA256 Credential={amz_date}T{amz_time}Z/{amz_date}/us-east-1/appsync/aws4_request, SignedHeaders=accept;content-type;host;x-amz-date;x-amz-security-token, Signature={auth[\"SecretKey\"]}',\n",
    "  'x-amz-user-agent': 'aws-amplify/2.0.2',\n",
    "  'Origin': 'https://www.goodreads.com',\n",
    "  'Connection': 'keep-alive',\n",
    "  'Sec-Fetch-Dest': 'empty',\n",
    "  'Sec-Fetch-Mode': 'cors',\n",
    "  'Sec-Fetch-Site': 'cross-site',\n",
    "  'TE': 'trailers'\n",
    "}\n",
    "\n",
    "response = requests.request(\"POST\", url, headers=headers, data=payload)\n",
    "print(response.text)"
   ]
  },
  {
   "cell_type": "code",
   "execution_count": 104,
   "id": "611285a3",
   "metadata": {},
   "outputs": [],
   "source": [
    "# print(json.loads(response.text)[\"errors\"][0][\"message\"])"
   ]
  },
  {
   "cell_type": "code",
   "execution_count": 78,
   "id": "dc2c5a41",
   "metadata": {},
   "outputs": [],
   "source": [
    "import datetime"
   ]
  },
  {
   "cell_type": "code",
   "execution_count": 72,
   "id": "dd831882",
   "metadata": {},
   "outputs": [
    {
     "name": "stdout",
     "output_type": "stream",
     "text": [
      "20230421\n",
      "153453\n"
     ]
    }
   ],
   "source": [
    "import pytz\n",
    "now = datetime.datetime.now(pytz.timezone('US/Eastern'))\n",
    "amz_date = now.strftime(\"%Y%m%d\")\n",
    "amz_time = now.strftime(\"%H%M%S\")\n",
    "print(amz_date)\n",
    "print(amz_time)"
   ]
  },
  {
   "cell_type": "code",
   "execution_count": 85,
   "id": "d8485dae",
   "metadata": {},
   "outputs": [
    {
     "name": "stdout",
     "output_type": "stream",
     "text": [
      "2023-04-21_15:39:28\n",
      "2023-04-21_19:39:28\n"
     ]
    }
   ],
   "source": [
    "print(datetime.datetime.fromtimestamp(auth[\"Expiration\"]).strftime(\"%Y-%m-%d_%H:%M:%S\"))\n",
    "print(now.strftime(\"%Y-%m-%d_%H:%M:%S\"))"
   ]
  },
  {
   "cell_type": "code",
   "execution_count": null,
   "id": "87b12c1c",
   "metadata": {},
   "outputs": [],
   "source": [
    "20230421T153540Z\n",
    "20230421T193043Z"
   ]
  },
  {
   "cell_type": "code",
   "execution_count": 105,
   "id": "794ac125",
   "metadata": {},
   "outputs": [],
   "source": [
    "# headers"
   ]
  },
  {
   "cell_type": "code",
   "execution_count": null,
   "id": "bd7692c6",
   "metadata": {},
   "outputs": [],
   "source": []
  },
  {
   "cell_type": "code",
   "execution_count": 17,
   "id": "2f2ab74a",
   "metadata": {},
   "outputs": [],
   "source": [
    "import requests\n",
    "url = \"https://www.goodreads.com/book/show/112077.The_Game_of_Kings\"\n",
    "response = requests.get(url)"
   ]
  },
  {
   "cell_type": "code",
   "execution_count": 22,
   "id": "92f13738",
   "metadata": {},
   "outputs": [
    {
     "data": {
      "text/plain": [
       "dict_keys(['_content', '_content_consumed', '_next', 'status_code', 'headers', 'raw', 'url', 'encoding', 'history', 'reason', 'cookies', 'elapsed', 'request', 'connection'])"
      ]
     },
     "execution_count": 22,
     "metadata": {},
     "output_type": "execute_result"
    }
   ],
   "source": [
    "vars(response).keys()"
   ]
  },
  {
   "cell_type": "code",
   "execution_count": 28,
   "id": "fc2f43f6",
   "metadata": {},
   "outputs": [
    {
     "data": {
      "text/plain": [
       "<requests.adapters.HTTPAdapter at 0x7fd1a978cd90>"
      ]
     },
     "execution_count": 28,
     "metadata": {},
     "output_type": "execute_result"
    }
   ],
   "source": [
    "response.connection"
   ]
  },
  {
   "cell_type": "code",
   "execution_count": null,
   "id": "7e780e20",
   "metadata": {},
   "outputs": [],
   "source": []
  }
 ],
 "metadata": {
  "kernelspec": {
   "display_name": "Python 3 (ipykernel)",
   "language": "python",
   "name": "python3"
  },
  "language_info": {
   "codemirror_mode": {
    "name": "ipython",
    "version": 3
   },
   "file_extension": ".py",
   "mimetype": "text/x-python",
   "name": "python",
   "nbconvert_exporter": "python",
   "pygments_lexer": "ipython3",
   "version": "3.7.16"
  }
 },
 "nbformat": 4,
 "nbformat_minor": 5
}
