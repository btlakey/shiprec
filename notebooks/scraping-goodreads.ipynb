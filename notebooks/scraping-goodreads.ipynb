{
 "cells": [
  {
   "cell_type": "code",
   "execution_count": 1,
   "id": "a870688e",
   "metadata": {},
   "outputs": [],
   "source": [
    "import pyarrow as pa\n",
    "import pyarrow.parquet as pq\n",
    "from datetime import datetime"
   ]
  },
  {
   "cell_type": "code",
   "execution_count": 31,
   "id": "72c217d3",
   "metadata": {},
   "outputs": [],
   "source": [
    "d = {\n",
    "    \"a\": \"aa\",\n",
    "    \"b\": 123,\n",
    "    \"c\": 45.6,\n",
    "    \"d\": datetime.strptime(d[\"d\"], \"%Y-%m-%d\")\n",
    "}"
   ]
  },
  {
   "cell_type": "code",
   "execution_count": 43,
   "id": "562d0bc3",
   "metadata": {},
   "outputs": [
    {
     "data": {
      "text/plain": [
       "pyarrow.Table\n",
       "a: string\n",
       "b: int64\n",
       "c: double\n",
       "d: timestamp[us]\n",
       "----\n",
       "a: [[\"aa\"]]\n",
       "b: [[123]]\n",
       "c: [[45.6]]\n",
       "d: [[2023-03-01 00:00:00.000000]]"
      ]
     },
     "execution_count": 43,
     "metadata": {},
     "output_type": "execute_result"
    }
   ],
   "source": [
    "pat = pa.Table.from_pylist([d])\n",
    "pat"
   ]
  },
  {
   "cell_type": "code",
   "execution_count": 33,
   "id": "aad031d3",
   "metadata": {},
   "outputs": [],
   "source": [
    "pq.write_table(pat, 'example.parquet')"
   ]
  },
  {
   "cell_type": "code",
   "execution_count": 36,
   "id": "4c3d5d07",
   "metadata": {},
   "outputs": [
    {
     "data": {
      "text/html": [
       "<div>\n",
       "<style scoped>\n",
       "    .dataframe tbody tr th:only-of-type {\n",
       "        vertical-align: middle;\n",
       "    }\n",
       "\n",
       "    .dataframe tbody tr th {\n",
       "        vertical-align: top;\n",
       "    }\n",
       "\n",
       "    .dataframe thead th {\n",
       "        text-align: right;\n",
       "    }\n",
       "</style>\n",
       "<table border=\"1\" class=\"dataframe\">\n",
       "  <thead>\n",
       "    <tr style=\"text-align: right;\">\n",
       "      <th></th>\n",
       "      <th>a</th>\n",
       "      <th>b</th>\n",
       "      <th>c</th>\n",
       "      <th>d</th>\n",
       "    </tr>\n",
       "  </thead>\n",
       "  <tbody>\n",
       "    <tr>\n",
       "      <th>0</th>\n",
       "      <td>aa</td>\n",
       "      <td>123</td>\n",
       "      <td>45.6</td>\n",
       "      <td>2023-03-01</td>\n",
       "    </tr>\n",
       "  </tbody>\n",
       "</table>\n",
       "</div>"
      ],
      "text/plain": [
       "    a    b     c          d\n",
       "0  aa  123  45.6 2023-03-01"
      ]
     },
     "execution_count": 36,
     "metadata": {},
     "output_type": "execute_result"
    }
   ],
   "source": [
    "df = pq.read_table('example.parquet').to_pandas()\n",
    "df"
   ]
  },
  {
   "cell_type": "code",
   "execution_count": 37,
   "id": "ba9431c4",
   "metadata": {},
   "outputs": [
    {
     "data": {
      "text/plain": [
       "a            object\n",
       "b             int64\n",
       "c           float64\n",
       "d    datetime64[ns]\n",
       "dtype: object"
      ]
     },
     "execution_count": 37,
     "metadata": {},
     "output_type": "execute_result"
    }
   ],
   "source": [
    "df.dtypes"
   ]
  },
  {
   "cell_type": "code",
   "execution_count": null,
   "id": "ba6c389d",
   "metadata": {},
   "outputs": [],
   "source": []
  },
  {
   "cell_type": "code",
   "execution_count": 52,
   "id": "1e7cf7e0",
   "metadata": {},
   "outputs": [],
   "source": [
    "item = {\n",
    "    \"title\": \"spam\",\n",
    "    \"isbn13\": 1234,\n",
    "    \"what\": \"nope\"\n",
    "}\n",
    "schema = pa.schema([\n",
    "    (\"what\", pa.string()),\n",
    "    (\"title\", pa.string()),\n",
    "    (\"isbn13\", pa.int64())\n",
    "])\n",
    "\n",
    "# print(set(item.keys()).symmetric_difference(set(schema.names)))\n",
    "assert len(set(item.keys()).symmetric_difference(set(schema.names))) == 0\n",
    "\n",
    "from toolz import apply\n",
    "diff_func = lambda x, y: len(x.symmetric_difference(y))\n",
    "diff = diff_func(*map(set, [item.keys(), schema.names]))\n",
    "assert diff == 0"
   ]
  },
  {
   "cell_type": "code",
   "execution_count": 50,
   "id": "8c221c7c",
   "metadata": {},
   "outputs": [],
   "source": [
    "from toolz import apply\n",
    "diff_func = lambda x, y: len(x.symmetric_difference(y))\n",
    "diff = diff_func(*map(set, [item.keys(), schema.names]))\n",
    "assert diff == 0"
   ]
  },
  {
   "cell_type": "code",
   "execution_count": 45,
   "id": "ecee9f48",
   "metadata": {},
   "outputs": [
    {
     "data": {
      "text/plain": [
       "[<function __main__.<lambda>(x)>, <map at 0x7f9c4c761890>]"
      ]
     },
     "execution_count": 45,
     "metadata": {},
     "output_type": "execute_result"
    }
   ],
   "source": [
    "list(w)"
   ]
  },
  {
   "cell_type": "code",
   "execution_count": 54,
   "id": "b60f6ddc",
   "metadata": {},
   "outputs": [
    {
     "data": {
      "text/plain": [
       "['w']"
      ]
     },
     "execution_count": 54,
     "metadata": {},
     "output_type": "execute_result"
    }
   ],
   "source": [
    "import random\n",
    "random.sample(a, 1)"
   ]
  },
  {
   "cell_type": "code",
   "execution_count": null,
   "id": "0ab65a8b",
   "metadata": {},
   "outputs": [],
   "source": []
  },
  {
   "cell_type": "code",
   "execution_count": null,
   "id": "8b7cc168",
   "metadata": {},
   "outputs": [],
   "source": []
  },
  {
   "cell_type": "code",
   "execution_count": 5,
   "id": "ffc3cf8d",
   "metadata": {},
   "outputs": [],
   "source": [
    "import pyarrow as pa\n",
    "import pyarrow.parquet as pq\n",
    "from datetime import datetime"
   ]
  },
  {
   "cell_type": "code",
   "execution_count": 7,
   "id": "14ea2b0b",
   "metadata": {
    "scrolled": false
   },
   "outputs": [
    {
     "name": "stdout",
     "output_type": "stream",
     "text": [
      "220\n"
     ]
    },
    {
     "data": {
      "text/html": [
       "<div>\n",
       "<style scoped>\n",
       "    .dataframe tbody tr th:only-of-type {\n",
       "        vertical-align: middle;\n",
       "    }\n",
       "\n",
       "    .dataframe tbody tr th {\n",
       "        vertical-align: top;\n",
       "    }\n",
       "\n",
       "    .dataframe thead th {\n",
       "        text-align: right;\n",
       "    }\n",
       "</style>\n",
       "<table border=\"1\" class=\"dataframe\">\n",
       "  <thead>\n",
       "    <tr style=\"text-align: right;\">\n",
       "      <th></th>\n",
       "      <th>title</th>\n",
       "      <th>isbn13</th>\n",
       "      <th>author</th>\n",
       "      <th>date_pub</th>\n",
       "      <th>mean_rating</th>\n",
       "      <th>num_rating</th>\n",
       "      <th>user_rating</th>\n",
       "      <th>date_read</th>\n",
       "      <th>date_added</th>\n",
       "      <th>review_text</th>\n",
       "      <th>shelf_url</th>\n",
       "    </tr>\n",
       "  </thead>\n",
       "  <tbody>\n",
       "    <tr>\n",
       "      <th>0</th>\n",
       "      <td>Scales of Gold (The House of Niccolo, #4)</td>\n",
       "      <td>9.780395e+12</td>\n",
       "      <td>Dunnett, Dorothy</td>\n",
       "      <td>1991</td>\n",
       "      <td>4.47</td>\n",
       "      <td>2287</td>\n",
       "      <td>5</td>\n",
       "      <td>Jul 09, 2015</td>\n",
       "      <td>July 09, 2015</td>\n",
       "      <td>None</td>\n",
       "      <td>https://www.goodreads.com/review/list/40648422...</td>\n",
       "    </tr>\n",
       "    <tr>\n",
       "      <th>1</th>\n",
       "      <td>The Lymond Poetry</td>\n",
       "      <td>9.780141e+12</td>\n",
       "      <td>Dunnett, Dorothy</td>\n",
       "      <td>Jan 01, 2003</td>\n",
       "      <td>4.41</td>\n",
       "      <td>73</td>\n",
       "      <td>5</td>\n",
       "      <td>None</td>\n",
       "      <td>July 07, 2015</td>\n",
       "      <td>None</td>\n",
       "      <td>https://www.goodreads.com/review/list/40648422...</td>\n",
       "    </tr>\n",
       "    <tr>\n",
       "      <th>2</th>\n",
       "      <td>The White Boar</td>\n",
       "      <td>NaN</td>\n",
       "      <td>Palmer, Marian</td>\n",
       "      <td>1968</td>\n",
       "      <td>3.73</td>\n",
       "      <td>99</td>\n",
       "      <td>5</td>\n",
       "      <td>Jul 02, 2015</td>\n",
       "      <td>June 28, 2015</td>\n",
       "      <td>\"The Cat, the Rat, and Lovell our Dog</td>\n",
       "      <td>https://www.goodreads.com/review/list/40648422...</td>\n",
       "    </tr>\n",
       "    <tr>\n",
       "      <th>3</th>\n",
       "      <td>The Daughter of Time (Inspector Alan Grant, #5)</td>\n",
       "      <td>NaN</td>\n",
       "      <td>Tey, Josephine</td>\n",
       "      <td>1951</td>\n",
       "      <td>3.91</td>\n",
       "      <td>30976</td>\n",
       "      <td>5</td>\n",
       "      <td>None</td>\n",
       "      <td>June 28, 2015</td>\n",
       "      <td>I'll admit it - after reading Sharon Kay Penma...</td>\n",
       "      <td>https://www.goodreads.com/review/list/40648422...</td>\n",
       "    </tr>\n",
       "    <tr>\n",
       "      <th>4</th>\n",
       "      <td>The Traitor's Wife: A Novel of the Reign of Ed...</td>\n",
       "      <td>9.781583e+12</td>\n",
       "      <td>Higginbotham, Susan</td>\n",
       "      <td>Jul 25, 2005</td>\n",
       "      <td>3.76</td>\n",
       "      <td>3649</td>\n",
       "      <td>4</td>\n",
       "      <td>Jan 14, 2018</td>\n",
       "      <td>June 11, 2015</td>\n",
       "      <td>This is a time in the history of England that ...</td>\n",
       "      <td>https://www.goodreads.com/review/list/40648422...</td>\n",
       "    </tr>\n",
       "  </tbody>\n",
       "</table>\n",
       "</div>"
      ],
      "text/plain": [
       "                                               title        isbn13  \\\n",
       "0          Scales of Gold (The House of Niccolo, #4)  9.780395e+12   \n",
       "1                                  The Lymond Poetry  9.780141e+12   \n",
       "2                                     The White Boar           NaN   \n",
       "3    The Daughter of Time (Inspector Alan Grant, #5)           NaN   \n",
       "4  The Traitor's Wife: A Novel of the Reign of Ed...  9.781583e+12   \n",
       "\n",
       "                author      date_pub  mean_rating  num_rating  user_rating  \\\n",
       "0     Dunnett, Dorothy          1991         4.47        2287            5   \n",
       "1     Dunnett, Dorothy  Jan 01, 2003         4.41          73            5   \n",
       "2       Palmer, Marian          1968         3.73          99            5   \n",
       "3       Tey, Josephine          1951         3.91       30976            5   \n",
       "4  Higginbotham, Susan  Jul 25, 2005         3.76        3649            4   \n",
       "\n",
       "      date_read     date_added  \\\n",
       "0  Jul 09, 2015  July 09, 2015   \n",
       "1          None  July 07, 2015   \n",
       "2  Jul 02, 2015  June 28, 2015   \n",
       "3          None  June 28, 2015   \n",
       "4  Jan 14, 2018  June 11, 2015   \n",
       "\n",
       "                                         review_text  \\\n",
       "0                                               None   \n",
       "1                                               None   \n",
       "2              \"The Cat, the Rat, and Lovell our Dog   \n",
       "3  I'll admit it - after reading Sharon Kay Penma...   \n",
       "4  This is a time in the history of England that ...   \n",
       "\n",
       "                                           shelf_url  \n",
       "0  https://www.goodreads.com/review/list/40648422...  \n",
       "1  https://www.goodreads.com/review/list/40648422...  \n",
       "2  https://www.goodreads.com/review/list/40648422...  \n",
       "3  https://www.goodreads.com/review/list/40648422...  \n",
       "4  https://www.goodreads.com/review/list/40648422...  "
      ]
     },
     "execution_count": 7,
     "metadata": {},
     "output_type": "execute_result"
    }
   ],
   "source": [
    "schema = pa.schema([\n",
    "    (\"title\", pa.string()),\n",
    "    (\"isbn13\", pa.int64()),\n",
    "    (\"author\", pa.string()),\n",
    "    (\"date_pub\", pa.string()),\n",
    "    (\"mean_rating\", pa.float64()),\n",
    "    (\"num_rating\", pa.int64()),\n",
    "    (\"user_rating\", pa.int64()),\n",
    "    (\"date_read\", pa.string()),\n",
    "    (\"date_added\", pa.string()),\n",
    "    (\"review_text\", pa.string()),\n",
    "    (\"shelf_url\", pa.string()),\n",
    "])\n",
    "df = pq.read_table('../data', schema=schema).to_pandas()\n",
    "# df.dtypes\n",
    "print(len(df))\n",
    "df.head()"
   ]
  },
  {
   "cell_type": "code",
   "execution_count": 98,
   "id": "061d3987",
   "metadata": {},
   "outputs": [
    {
     "name": "stdout",
     "output_type": "stream",
     "text": [
      "220\n"
     ]
    },
    {
     "data": {
      "text/plain": [
       "0                                                  None\n",
       "1     This review is for the Fionavar Tapestry trilo...\n",
       "2                                                  None\n",
       "3                                                  None\n",
       "4                                                  None\n",
       "5     I read this for a book club. And I am still pr...\n",
       "6                                                  None\n",
       "7                                                  None\n",
       "8                                                  None\n",
       "9                                                  None\n",
       "10                                                 None\n",
       "11                                                 None\n",
       "12    I enjoyed this story very much. It's a period ...\n",
       "13                                                 None\n",
       "14    My friend who is a librarian suggested that I ...\n",
       "15    I love Stella Riley. Her books are amazing. Wh...\n",
       "16                                                 None\n",
       "17                                                 None\n",
       "18                                                 None\n",
       "19    To be honest Riley had me with this book right...\n",
       "Name: review_text, dtype: object"
      ]
     },
     "execution_count": 98,
     "metadata": {},
     "output_type": "execute_result"
    }
   ],
   "source": [
    "df = pq.read_table('../data').to_pandas()\n",
    "print(len(df))\n",
    "df[\"review_text\"][:20]"
   ]
  },
  {
   "cell_type": "code",
   "execution_count": 22,
   "id": "c9b6a367",
   "metadata": {},
   "outputs": [
    {
     "data": {
      "text/plain": [
       "title: string\n",
       "isbn13: int64\n",
       "author: string\n",
       "date_pub: string\n",
       "mean_rating: double\n",
       "num_rating: int64\n",
       "user_rating: int64\n",
       "date_read: string\n",
       "date_added: string\n",
       "review_text: null\n",
       "shelf_url: string"
      ]
     },
     "execution_count": 22,
     "metadata": {},
     "output_type": "execute_result"
    }
   ],
   "source": [
    "schema = pa.schema([\n",
    "    (\"title\", pa.string()),\n",
    "    (\"isbn13\", pa.int32()),\n",
    "    (\"author\", pa.string()),\n",
    "    (\"date_pub\", pa.string()),\n",
    "    (\"mean_rating\", pa.float32()),\n",
    "    (\"num_rating\", pa.int32()),\n",
    "    (\"user_rating\", pa.int32()),\n",
    "    (\"date_read\", pa.string()),\n",
    "    (\"date_added\", pa.string()),\n",
    "    (\"review_text\", pa.string()),\n",
    "    (\"shelf_url\", pa.string()),\n",
    "])\n",
    "df = pq.read_table('../data/00001.parquet')\n",
    "df.schema"
   ]
  },
  {
   "cell_type": "code",
   "execution_count": 18,
   "id": "3bfa7cb4",
   "metadata": {},
   "outputs": [
    {
     "data": {
      "text/plain": [
       "pyarrow.lib.Schema"
      ]
     },
     "execution_count": 18,
     "metadata": {},
     "output_type": "execute_result"
    }
   ],
   "source": [
    "type(df.schema)"
   ]
  },
  {
   "cell_type": "code",
   "execution_count": 19,
   "id": "d2e1358b",
   "metadata": {},
   "outputs": [
    {
     "data": {
      "text/plain": [
       "some_int: int32\n",
       "some_string: string"
      ]
     },
     "execution_count": 19,
     "metadata": {},
     "output_type": "execute_result"
    }
   ],
   "source": [
    "schema = pa.schema([\n",
    "    (\"title\": pa.string()),\n",
    "    (\"isbn13\": pa.int32()),\n",
    "    (\"author\": pa.string()),\n",
    "    (\"date_pub\": pa.string()),\n",
    "    (\"mean_rating\": pa.float()),\n",
    "    (\"num_rating\": pa.int32()),\n",
    "    (\"user_rating\": pa.int32()),\n",
    "    (\"date_read\": pa.string()),\n",
    "    (\"date_added\": pa.string()),\n",
    "    (\"review_text\": pa.string()),\n",
    "    (\"shelf_url\": pa.string()),\n",
    "])"
   ]
  },
  {
   "cell_type": "code",
   "execution_count": null,
   "id": "1cb96247",
   "metadata": {},
   "outputs": [],
   "source": []
  },
  {
   "cell_type": "code",
   "execution_count": null,
   "id": "7fd4a659",
   "metadata": {},
   "outputs": [],
   "source": []
  },
  {
   "cell_type": "code",
   "execution_count": 77,
   "id": "9300ecb4",
   "metadata": {},
   "outputs": [],
   "source": [
    "def convert_rating(rating: str):\n",
    "    rating_map = {\n",
    "        \"x\": 0,\n",
    "        \"y\": 1,\n",
    "    }\n",
    "    for k, v in rating_map.items():\n",
    "        if rating == k:\n",
    "            return v"
   ]
  },
  {
   "cell_type": "code",
   "execution_count": 80,
   "id": "08bb742e",
   "metadata": {},
   "outputs": [],
   "source": [
    "a = [\n",
    "    {\"a\": \"x\", \"b\": 10},\n",
    "    {\"a\": \"y\", \"b\": 11},\n",
    "    {\"a\": \"x\", \"b\": 12},\n",
    "]\n"
   ]
  },
  {
   "cell_type": "code",
   "execution_count": 81,
   "id": "e55ad0fc",
   "metadata": {},
   "outputs": [
    {
     "name": "stdout",
     "output_type": "stream",
     "text": [
      "809 ns ± 71.5 ns per loop (mean ± std. dev. of 7 runs, 1000000 loops each)\n"
     ]
    }
   ],
   "source": [
    "%%timeit\n",
    "for d in a:\n",
    "    d[\"a\"] = convert_rating(d[\"a\"])"
   ]
  },
  {
   "cell_type": "code",
   "execution_count": 85,
   "id": "e8185b9e",
   "metadata": {},
   "outputs": [],
   "source": [
    "def convert_rating(d: dict):\n",
    "    rating_map = {\n",
    "        \"x\": 0,\n",
    "        \"y\": 1,\n",
    "    }\n",
    "    for k, v in rating_map.items():\n",
    "        if d[\"a\"] == k:\n",
    "            d[\"a\"] =  v\n",
    "    return d"
   ]
  },
  {
   "cell_type": "code",
   "execution_count": 90,
   "id": "bdcc9edc",
   "metadata": {},
   "outputs": [],
   "source": [
    "a = [\n",
    "    {\"a\": \"x\", \"b\": 10},\n",
    "    {\"a\": \"y\", \"b\": 11},\n",
    "    {\"a\": \"x\", \"b\": 12},\n",
    "]\n",
    "# a = list(map(convert_rating, a))\n",
    "# a"
   ]
  },
  {
   "cell_type": "code",
   "execution_count": 92,
   "id": "9c13d4d3",
   "metadata": {},
   "outputs": [
    {
     "name": "stdout",
     "output_type": "stream",
     "text": [
      "994 ns ± 41 ns per loop (mean ± std. dev. of 7 runs, 1000000 loops each)\n"
     ]
    }
   ],
   "source": [
    "%%timeit\n",
    "list(map(convert_rating, a))"
   ]
  },
  {
   "cell_type": "code",
   "execution_count": null,
   "id": "04c06e3d",
   "metadata": {},
   "outputs": [],
   "source": []
  }
 ],
 "metadata": {
  "kernelspec": {
   "display_name": "Python 3 (ipykernel)",
   "language": "python",
   "name": "python3"
  },
  "language_info": {
   "codemirror_mode": {
    "name": "ipython",
    "version": 3
   },
   "file_extension": ".py",
   "mimetype": "text/x-python",
   "name": "python",
   "nbconvert_exporter": "python",
   "pygments_lexer": "ipython3",
   "version": "3.7.16"
  }
 },
 "nbformat": 4,
 "nbformat_minor": 5
}
