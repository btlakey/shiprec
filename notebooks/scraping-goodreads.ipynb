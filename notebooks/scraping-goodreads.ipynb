{
 "cells": [
  {
   "cell_type": "code",
   "execution_count": 26,
   "id": "a870688e",
   "metadata": {},
   "outputs": [],
   "source": [
    "import pyarrow as pa\n",
    "import pyarrow.parquet as pq\n",
    "from datetime import datetime"
   ]
  },
  {
   "cell_type": "code",
   "execution_count": 31,
   "id": "72c217d3",
   "metadata": {},
   "outputs": [],
   "source": [
    "d = {\n",
    "    \"a\": \"aa\",\n",
    "    \"b\": 123,\n",
    "    \"c\": 45.6,\n",
    "    \"d\": datetime.strptime(d[\"d\"], \"%Y-%m-%d\")\n",
    "}"
   ]
  },
  {
   "cell_type": "code",
   "execution_count": 43,
   "id": "562d0bc3",
   "metadata": {},
   "outputs": [
    {
     "data": {
      "text/plain": [
       "pyarrow.Table\n",
       "a: string\n",
       "b: int64\n",
       "c: double\n",
       "d: timestamp[us]\n",
       "----\n",
       "a: [[\"aa\"]]\n",
       "b: [[123]]\n",
       "c: [[45.6]]\n",
       "d: [[2023-03-01 00:00:00.000000]]"
      ]
     },
     "execution_count": 43,
     "metadata": {},
     "output_type": "execute_result"
    }
   ],
   "source": [
    "pat = pa.Table.from_pylist([d])\n",
    "pat"
   ]
  },
  {
   "cell_type": "code",
   "execution_count": 33,
   "id": "aad031d3",
   "metadata": {},
   "outputs": [],
   "source": [
    "pq.write_table(pat, 'example.parquet')"
   ]
  },
  {
   "cell_type": "code",
   "execution_count": 36,
   "id": "4c3d5d07",
   "metadata": {},
   "outputs": [
    {
     "data": {
      "text/html": [
       "<div>\n",
       "<style scoped>\n",
       "    .dataframe tbody tr th:only-of-type {\n",
       "        vertical-align: middle;\n",
       "    }\n",
       "\n",
       "    .dataframe tbody tr th {\n",
       "        vertical-align: top;\n",
       "    }\n",
       "\n",
       "    .dataframe thead th {\n",
       "        text-align: right;\n",
       "    }\n",
       "</style>\n",
       "<table border=\"1\" class=\"dataframe\">\n",
       "  <thead>\n",
       "    <tr style=\"text-align: right;\">\n",
       "      <th></th>\n",
       "      <th>a</th>\n",
       "      <th>b</th>\n",
       "      <th>c</th>\n",
       "      <th>d</th>\n",
       "    </tr>\n",
       "  </thead>\n",
       "  <tbody>\n",
       "    <tr>\n",
       "      <th>0</th>\n",
       "      <td>aa</td>\n",
       "      <td>123</td>\n",
       "      <td>45.6</td>\n",
       "      <td>2023-03-01</td>\n",
       "    </tr>\n",
       "  </tbody>\n",
       "</table>\n",
       "</div>"
      ],
      "text/plain": [
       "    a    b     c          d\n",
       "0  aa  123  45.6 2023-03-01"
      ]
     },
     "execution_count": 36,
     "metadata": {},
     "output_type": "execute_result"
    }
   ],
   "source": [
    "df = pq.read_table('example.parquet').to_pandas()\n",
    "df"
   ]
  },
  {
   "cell_type": "code",
   "execution_count": 37,
   "id": "ba9431c4",
   "metadata": {},
   "outputs": [
    {
     "data": {
      "text/plain": [
       "a            object\n",
       "b             int64\n",
       "c           float64\n",
       "d    datetime64[ns]\n",
       "dtype: object"
      ]
     },
     "execution_count": 37,
     "metadata": {},
     "output_type": "execute_result"
    }
   ],
   "source": [
    "df.dtypes"
   ]
  },
  {
   "cell_type": "code",
   "execution_count": 49,
   "id": "14ea2b0b",
   "metadata": {
    "scrolled": false
   },
   "outputs": [
    {
     "data": {
      "text/plain": [
       "title           object\n",
       "isbn13         float64\n",
       "author          object\n",
       "date_pub        object\n",
       "mean_rating    float64\n",
       "num_rating       int64\n",
       "user_rating      int64\n",
       "date_read       object\n",
       "date_added      object\n",
       "dtype: object"
      ]
     },
     "execution_count": 49,
     "metadata": {},
     "output_type": "execute_result"
    }
   ],
   "source": [
    "df = pq.read_table('../data').to_pandas()\n",
    "df.dtypes"
   ]
  },
  {
   "cell_type": "code",
   "execution_count": 50,
   "id": "061d3987",
   "metadata": {},
   "outputs": [
    {
     "data": {
      "text/html": [
       "<div>\n",
       "<style scoped>\n",
       "    .dataframe tbody tr th:only-of-type {\n",
       "        vertical-align: middle;\n",
       "    }\n",
       "\n",
       "    .dataframe tbody tr th {\n",
       "        vertical-align: top;\n",
       "    }\n",
       "\n",
       "    .dataframe thead th {\n",
       "        text-align: right;\n",
       "    }\n",
       "</style>\n",
       "<table border=\"1\" class=\"dataframe\">\n",
       "  <thead>\n",
       "    <tr style=\"text-align: right;\">\n",
       "      <th></th>\n",
       "      <th>title</th>\n",
       "      <th>isbn13</th>\n",
       "      <th>author</th>\n",
       "      <th>date_pub</th>\n",
       "      <th>mean_rating</th>\n",
       "      <th>num_rating</th>\n",
       "      <th>user_rating</th>\n",
       "      <th>date_read</th>\n",
       "      <th>date_added</th>\n",
       "    </tr>\n",
       "  </thead>\n",
       "  <tbody>\n",
       "    <tr>\n",
       "      <th>0</th>\n",
       "      <td>Mabinogion Tales</td>\n",
       "      <td>9.780948e+12</td>\n",
       "      <td>Guest, Charlotte</td>\n",
       "      <td>1410</td>\n",
       "      <td>3.95</td>\n",
       "      <td>20</td>\n",
       "      <td>5</td>\n",
       "      <td>Mar 03, 2018</td>\n",
       "      <td>January 28, 2018</td>\n",
       "    </tr>\n",
       "    <tr>\n",
       "      <th>1</th>\n",
       "      <td>The Lions of Al-Rassan</td>\n",
       "      <td>9.780061e+12</td>\n",
       "      <td>Kay, Guy Gavriel</td>\n",
       "      <td>1995</td>\n",
       "      <td>4.30</td>\n",
       "      <td>21457</td>\n",
       "      <td>5</td>\n",
       "      <td>Apr 2017</td>\n",
       "      <td>March 30, 2017</td>\n",
       "    </tr>\n",
       "    <tr>\n",
       "      <th>2</th>\n",
       "      <td>Jane Eyre</td>\n",
       "      <td>9.780142e+12</td>\n",
       "      <td>Brontë, Charlotte</td>\n",
       "      <td>Oct 16, 1847</td>\n",
       "      <td>4.14</td>\n",
       "      <td>1955530</td>\n",
       "      <td>5</td>\n",
       "      <td>None</td>\n",
       "      <td>May 05, 2015</td>\n",
       "    </tr>\n",
       "    <tr>\n",
       "      <th>3</th>\n",
       "      <td>The Sunne in Splendour</td>\n",
       "      <td>9.780345e+12</td>\n",
       "      <td>Penman, Sharon Kay</td>\n",
       "      <td>Oct 1982</td>\n",
       "      <td>4.40</td>\n",
       "      <td>21289</td>\n",
       "      <td>5</td>\n",
       "      <td>May 04, 2015</td>\n",
       "      <td>April 27, 2015</td>\n",
       "    </tr>\n",
       "    <tr>\n",
       "      <th>4</th>\n",
       "      <td>Shōgun (Asian Saga, #1)</td>\n",
       "      <td>NaN</td>\n",
       "      <td>Clavell, James</td>\n",
       "      <td>Jun 01, 1975</td>\n",
       "      <td>4.40</td>\n",
       "      <td>167041</td>\n",
       "      <td>5</td>\n",
       "      <td>None</td>\n",
       "      <td>April 03, 2015</td>\n",
       "    </tr>\n",
       "  </tbody>\n",
       "</table>\n",
       "</div>"
      ],
      "text/plain": [
       "                     title        isbn13              author      date_pub  \\\n",
       "0         Mabinogion Tales  9.780948e+12    Guest, Charlotte          1410   \n",
       "1   The Lions of Al-Rassan  9.780061e+12    Kay, Guy Gavriel          1995   \n",
       "2                Jane Eyre  9.780142e+12   Brontë, Charlotte  Oct 16, 1847   \n",
       "3   The Sunne in Splendour  9.780345e+12  Penman, Sharon Kay      Oct 1982   \n",
       "4  Shōgun (Asian Saga, #1)           NaN      Clavell, James  Jun 01, 1975   \n",
       "\n",
       "   mean_rating  num_rating  user_rating     date_read        date_added  \n",
       "0         3.95          20            5  Mar 03, 2018  January 28, 2018  \n",
       "1         4.30       21457            5      Apr 2017    March 30, 2017  \n",
       "2         4.14     1955530            5          None      May 05, 2015  \n",
       "3         4.40       21289            5  May 04, 2015    April 27, 2015  \n",
       "4         4.40      167041            5          None    April 03, 2015  "
      ]
     },
     "execution_count": 50,
     "metadata": {},
     "output_type": "execute_result"
    }
   ],
   "source": [
    "df.head()"
   ]
  },
  {
   "cell_type": "code",
   "execution_count": null,
   "id": "c9b6a367",
   "metadata": {},
   "outputs": [],
   "source": []
  }
 ],
 "metadata": {
  "kernelspec": {
   "display_name": "Python 3 (ipykernel)",
   "language": "python",
   "name": "python3"
  },
  "language_info": {
   "codemirror_mode": {
    "name": "ipython",
    "version": 3
   },
   "file_extension": ".py",
   "mimetype": "text/x-python",
   "name": "python",
   "nbconvert_exporter": "python",
   "pygments_lexer": "ipython3",
   "version": "3.7.16"
  }
 },
 "nbformat": 4,
 "nbformat_minor": 5
}
