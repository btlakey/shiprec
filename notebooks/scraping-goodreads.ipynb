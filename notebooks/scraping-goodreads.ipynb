{
 "cells": [
  {
   "cell_type": "code",
   "execution_count": 26,
   "id": "a870688e",
   "metadata": {},
   "outputs": [],
   "source": [
    "import pyarrow as pa\n",
    "import pyarrow.parquet as pq\n",
    "from datetime import datetime"
   ]
  },
  {
   "cell_type": "code",
   "execution_count": 31,
   "id": "72c217d3",
   "metadata": {},
   "outputs": [],
   "source": [
    "d = {\n",
    "    \"a\": \"aa\",\n",
    "    \"b\": 123,\n",
    "    \"c\": 45.6,\n",
    "    \"d\": datetime.strptime(d[\"d\"], \"%Y-%m-%d\")\n",
    "}"
   ]
  },
  {
   "cell_type": "code",
   "execution_count": 32,
   "id": "562d0bc3",
   "metadata": {},
   "outputs": [
    {
     "data": {
      "text/plain": [
       "pyarrow.Table\n",
       "a: string\n",
       "b: int64\n",
       "c: double\n",
       "d: timestamp[us]\n",
       "----\n",
       "a: [[\"aa\"]]\n",
       "b: [[123]]\n",
       "c: [[45.6]]\n",
       "d: [[2023-03-01 00:00:00.000000]]"
      ]
     },
     "execution_count": 32,
     "metadata": {},
     "output_type": "execute_result"
    }
   ],
   "source": [
    "pat = pa.Table.from_pylist([d])\n",
    "pat"
   ]
  },
  {
   "cell_type": "code",
   "execution_count": 33,
   "id": "61c3350a",
   "metadata": {},
   "outputs": [],
   "source": [
    "pq.write_table(pat, 'example.parquet')"
   ]
  },
  {
   "cell_type": "code",
   "execution_count": 36,
   "id": "4eac6ac0",
   "metadata": {},
   "outputs": [
    {
     "data": {
      "text/html": [
       "<div>\n",
       "<style scoped>\n",
       "    .dataframe tbody tr th:only-of-type {\n",
       "        vertical-align: middle;\n",
       "    }\n",
       "\n",
       "    .dataframe tbody tr th {\n",
       "        vertical-align: top;\n",
       "    }\n",
       "\n",
       "    .dataframe thead th {\n",
       "        text-align: right;\n",
       "    }\n",
       "</style>\n",
       "<table border=\"1\" class=\"dataframe\">\n",
       "  <thead>\n",
       "    <tr style=\"text-align: right;\">\n",
       "      <th></th>\n",
       "      <th>a</th>\n",
       "      <th>b</th>\n",
       "      <th>c</th>\n",
       "      <th>d</th>\n",
       "    </tr>\n",
       "  </thead>\n",
       "  <tbody>\n",
       "    <tr>\n",
       "      <th>0</th>\n",
       "      <td>aa</td>\n",
       "      <td>123</td>\n",
       "      <td>45.6</td>\n",
       "      <td>2023-03-01</td>\n",
       "    </tr>\n",
       "  </tbody>\n",
       "</table>\n",
       "</div>"
      ],
      "text/plain": [
       "    a    b     c          d\n",
       "0  aa  123  45.6 2023-03-01"
      ]
     },
     "execution_count": 36,
     "metadata": {},
     "output_type": "execute_result"
    }
   ],
   "source": [
    "df = pq.read_table('example.parquet').to_pandas()\n",
    "df"
   ]
  },
  {
   "cell_type": "code",
   "execution_count": 37,
   "id": "6fdfaad2",
   "metadata": {},
   "outputs": [
    {
     "data": {
      "text/plain": [
       "a            object\n",
       "b             int64\n",
       "c           float64\n",
       "d    datetime64[ns]\n",
       "dtype: object"
      ]
     },
     "execution_count": 37,
     "metadata": {},
     "output_type": "execute_result"
    }
   ],
   "source": [
    "df.dtypes"
   ]
  },
  {
   "cell_type": "code",
   "execution_count": 38,
   "id": "5af4f05d",
   "metadata": {},
   "outputs": [
    {
     "data": {
      "text/plain": [
       "'000'"
      ]
     },
     "execution_count": 38,
     "metadata": {},
     "output_type": "execute_result"
    }
   ],
   "source": [
    "w=0\n",
    "f\"{w:03d}\""
   ]
  },
  {
   "cell_type": "code",
   "execution_count": null,
   "id": "31fda937",
   "metadata": {},
   "outputs": [],
   "source": []
  }
 ],
 "metadata": {
  "kernelspec": {
   "display_name": "Python 3 (ipykernel)",
   "language": "python",
   "name": "python3"
  },
  "language_info": {
   "codemirror_mode": {
    "name": "ipython",
    "version": 3
   },
   "file_extension": ".py",
   "mimetype": "text/x-python",
   "name": "python",
   "nbconvert_exporter": "python",
   "pygments_lexer": "ipython3",
   "version": "3.7.16"
  }
 },
 "nbformat": 4,
 "nbformat_minor": 5
}
