{
 "cells": [
  {
   "cell_type": "code",
   "execution_count": 1,
   "id": "a870688e",
   "metadata": {},
   "outputs": [],
   "source": [
    "import pyarrow as pa\n",
    "import pyarrow.parquet as pq\n",
    "from datetime import datetime"
   ]
  },
  {
   "cell_type": "code",
   "execution_count": 31,
   "id": "72c217d3",
   "metadata": {},
   "outputs": [],
   "source": [
    "d = {\n",
    "    \"a\": \"aa\",\n",
    "    \"b\": 123,\n",
    "    \"c\": 45.6,\n",
    "    \"d\": datetime.strptime(d[\"d\"], \"%Y-%m-%d\")\n",
    "}"
   ]
  },
  {
   "cell_type": "code",
   "execution_count": 43,
   "id": "562d0bc3",
   "metadata": {},
   "outputs": [
    {
     "data": {
      "text/plain": [
       "pyarrow.Table\n",
       "a: string\n",
       "b: int64\n",
       "c: double\n",
       "d: timestamp[us]\n",
       "----\n",
       "a: [[\"aa\"]]\n",
       "b: [[123]]\n",
       "c: [[45.6]]\n",
       "d: [[2023-03-01 00:00:00.000000]]"
      ]
     },
     "execution_count": 43,
     "metadata": {},
     "output_type": "execute_result"
    }
   ],
   "source": [
    "pat = pa.Table.from_pylist([d])\n",
    "pat"
   ]
  },
  {
   "cell_type": "code",
   "execution_count": 33,
   "id": "aad031d3",
   "metadata": {},
   "outputs": [],
   "source": [
    "pq.write_table(pat, 'example.parquet')"
   ]
  },
  {
   "cell_type": "code",
   "execution_count": 36,
   "id": "4c3d5d07",
   "metadata": {},
   "outputs": [
    {
     "data": {
      "text/html": [
       "<div>\n",
       "<style scoped>\n",
       "    .dataframe tbody tr th:only-of-type {\n",
       "        vertical-align: middle;\n",
       "    }\n",
       "\n",
       "    .dataframe tbody tr th {\n",
       "        vertical-align: top;\n",
       "    }\n",
       "\n",
       "    .dataframe thead th {\n",
       "        text-align: right;\n",
       "    }\n",
       "</style>\n",
       "<table border=\"1\" class=\"dataframe\">\n",
       "  <thead>\n",
       "    <tr style=\"text-align: right;\">\n",
       "      <th></th>\n",
       "      <th>a</th>\n",
       "      <th>b</th>\n",
       "      <th>c</th>\n",
       "      <th>d</th>\n",
       "    </tr>\n",
       "  </thead>\n",
       "  <tbody>\n",
       "    <tr>\n",
       "      <th>0</th>\n",
       "      <td>aa</td>\n",
       "      <td>123</td>\n",
       "      <td>45.6</td>\n",
       "      <td>2023-03-01</td>\n",
       "    </tr>\n",
       "  </tbody>\n",
       "</table>\n",
       "</div>"
      ],
      "text/plain": [
       "    a    b     c          d\n",
       "0  aa  123  45.6 2023-03-01"
      ]
     },
     "execution_count": 36,
     "metadata": {},
     "output_type": "execute_result"
    }
   ],
   "source": [
    "df = pq.read_table('example.parquet').to_pandas()\n",
    "df"
   ]
  },
  {
   "cell_type": "code",
   "execution_count": 37,
   "id": "ba9431c4",
   "metadata": {},
   "outputs": [
    {
     "data": {
      "text/plain": [
       "a            object\n",
       "b             int64\n",
       "c           float64\n",
       "d    datetime64[ns]\n",
       "dtype: object"
      ]
     },
     "execution_count": 37,
     "metadata": {},
     "output_type": "execute_result"
    }
   ],
   "source": [
    "df.dtypes"
   ]
  },
  {
   "cell_type": "code",
   "execution_count": null,
   "id": "ba6c389d",
   "metadata": {},
   "outputs": [],
   "source": []
  },
  {
   "cell_type": "code",
   "execution_count": 52,
   "id": "1e7cf7e0",
   "metadata": {},
   "outputs": [],
   "source": [
    "item = {\n",
    "    \"title\": \"spam\",\n",
    "    \"isbn13\": 1234,\n",
    "    \"what\": \"nope\"\n",
    "}\n",
    "schema = pa.schema([\n",
    "    (\"what\", pa.string()),\n",
    "    (\"title\", pa.string()),\n",
    "    (\"isbn13\", pa.int64())\n",
    "])\n",
    "\n",
    "# print(set(item.keys()).symmetric_difference(set(schema.names)))\n",
    "assert len(set(item.keys()).symmetric_difference(set(schema.names))) == 0\n",
    "\n",
    "from toolz import apply\n",
    "diff_func = lambda x, y: len(x.symmetric_difference(y))\n",
    "diff = diff_func(*map(set, [item.keys(), schema.names]))\n",
    "assert diff == 0"
   ]
  },
  {
   "cell_type": "code",
   "execution_count": 50,
   "id": "8c221c7c",
   "metadata": {},
   "outputs": [],
   "source": [
    "from toolz import apply\n",
    "diff_func = lambda x, y: len(x.symmetric_difference(y))\n",
    "diff = diff_func(*map(set, [item.keys(), schema.names]))\n",
    "assert diff == 0"
   ]
  },
  {
   "cell_type": "code",
   "execution_count": 45,
   "id": "ecee9f48",
   "metadata": {},
   "outputs": [
    {
     "data": {
      "text/plain": [
       "[<function __main__.<lambda>(x)>, <map at 0x7f9c4c761890>]"
      ]
     },
     "execution_count": 45,
     "metadata": {},
     "output_type": "execute_result"
    }
   ],
   "source": [
    "list(w)"
   ]
  },
  {
   "cell_type": "code",
   "execution_count": 54,
   "id": "b60f6ddc",
   "metadata": {},
   "outputs": [
    {
     "data": {
      "text/plain": [
       "['w']"
      ]
     },
     "execution_count": 54,
     "metadata": {},
     "output_type": "execute_result"
    }
   ],
   "source": [
    "import random\n",
    "random.sample(a, 1)"
   ]
  },
  {
   "cell_type": "code",
   "execution_count": null,
   "id": "0ab65a8b",
   "metadata": {},
   "outputs": [],
   "source": []
  },
  {
   "cell_type": "code",
   "execution_count": null,
   "id": "8b7cc168",
   "metadata": {},
   "outputs": [],
   "source": []
  },
  {
   "cell_type": "code",
   "execution_count": 5,
   "id": "ffc3cf8d",
   "metadata": {},
   "outputs": [],
   "source": [
    "import pyarrow as pa\n",
    "import pyarrow.parquet as pq\n",
    "from datetime import datetime"
   ]
  },
  {
   "cell_type": "code",
   "execution_count": 7,
   "id": "14ea2b0b",
   "metadata": {
    "scrolled": false
   },
   "outputs": [
    {
     "name": "stdout",
     "output_type": "stream",
     "text": [
      "220\n"
     ]
    },
    {
     "data": {
      "text/html": [
       "<div>\n",
       "<style scoped>\n",
       "    .dataframe tbody tr th:only-of-type {\n",
       "        vertical-align: middle;\n",
       "    }\n",
       "\n",
       "    .dataframe tbody tr th {\n",
       "        vertical-align: top;\n",
       "    }\n",
       "\n",
       "    .dataframe thead th {\n",
       "        text-align: right;\n",
       "    }\n",
       "</style>\n",
       "<table border=\"1\" class=\"dataframe\">\n",
       "  <thead>\n",
       "    <tr style=\"text-align: right;\">\n",
       "      <th></th>\n",
       "      <th>title</th>\n",
       "      <th>isbn13</th>\n",
       "      <th>author</th>\n",
       "      <th>date_pub</th>\n",
       "      <th>mean_rating</th>\n",
       "      <th>num_rating</th>\n",
       "      <th>user_rating</th>\n",
       "      <th>date_read</th>\n",
       "      <th>date_added</th>\n",
       "      <th>review_text</th>\n",
       "      <th>shelf_url</th>\n",
       "    </tr>\n",
       "  </thead>\n",
       "  <tbody>\n",
       "    <tr>\n",
       "      <th>0</th>\n",
       "      <td>Scales of Gold (The House of Niccolo, #4)</td>\n",
       "      <td>9.780395e+12</td>\n",
       "      <td>Dunnett, Dorothy</td>\n",
       "      <td>1991</td>\n",
       "      <td>4.47</td>\n",
       "      <td>2287</td>\n",
       "      <td>5</td>\n",
       "      <td>Jul 09, 2015</td>\n",
       "      <td>July 09, 2015</td>\n",
       "      <td>None</td>\n",
       "      <td>https://www.goodreads.com/review/list/40648422...</td>\n",
       "    </tr>\n",
       "    <tr>\n",
       "      <th>1</th>\n",
       "      <td>The Lymond Poetry</td>\n",
       "      <td>9.780141e+12</td>\n",
       "      <td>Dunnett, Dorothy</td>\n",
       "      <td>Jan 01, 2003</td>\n",
       "      <td>4.41</td>\n",
       "      <td>73</td>\n",
       "      <td>5</td>\n",
       "      <td>None</td>\n",
       "      <td>July 07, 2015</td>\n",
       "      <td>None</td>\n",
       "      <td>https://www.goodreads.com/review/list/40648422...</td>\n",
       "    </tr>\n",
       "    <tr>\n",
       "      <th>2</th>\n",
       "      <td>The White Boar</td>\n",
       "      <td>NaN</td>\n",
       "      <td>Palmer, Marian</td>\n",
       "      <td>1968</td>\n",
       "      <td>3.73</td>\n",
       "      <td>99</td>\n",
       "      <td>5</td>\n",
       "      <td>Jul 02, 2015</td>\n",
       "      <td>June 28, 2015</td>\n",
       "      <td>\"The Cat, the Rat, and Lovell our Dog</td>\n",
       "      <td>https://www.goodreads.com/review/list/40648422...</td>\n",
       "    </tr>\n",
       "    <tr>\n",
       "      <th>3</th>\n",
       "      <td>The Daughter of Time (Inspector Alan Grant, #5)</td>\n",
       "      <td>NaN</td>\n",
       "      <td>Tey, Josephine</td>\n",
       "      <td>1951</td>\n",
       "      <td>3.91</td>\n",
       "      <td>30976</td>\n",
       "      <td>5</td>\n",
       "      <td>None</td>\n",
       "      <td>June 28, 2015</td>\n",
       "      <td>I'll admit it - after reading Sharon Kay Penma...</td>\n",
       "      <td>https://www.goodreads.com/review/list/40648422...</td>\n",
       "    </tr>\n",
       "    <tr>\n",
       "      <th>4</th>\n",
       "      <td>The Traitor's Wife: A Novel of the Reign of Ed...</td>\n",
       "      <td>9.781583e+12</td>\n",
       "      <td>Higginbotham, Susan</td>\n",
       "      <td>Jul 25, 2005</td>\n",
       "      <td>3.76</td>\n",
       "      <td>3649</td>\n",
       "      <td>4</td>\n",
       "      <td>Jan 14, 2018</td>\n",
       "      <td>June 11, 2015</td>\n",
       "      <td>This is a time in the history of England that ...</td>\n",
       "      <td>https://www.goodreads.com/review/list/40648422...</td>\n",
       "    </tr>\n",
       "  </tbody>\n",
       "</table>\n",
       "</div>"
      ],
      "text/plain": [
       "                                               title        isbn13  \\\n",
       "0          Scales of Gold (The House of Niccolo, #4)  9.780395e+12   \n",
       "1                                  The Lymond Poetry  9.780141e+12   \n",
       "2                                     The White Boar           NaN   \n",
       "3    The Daughter of Time (Inspector Alan Grant, #5)           NaN   \n",
       "4  The Traitor's Wife: A Novel of the Reign of Ed...  9.781583e+12   \n",
       "\n",
       "                author      date_pub  mean_rating  num_rating  user_rating  \\\n",
       "0     Dunnett, Dorothy          1991         4.47        2287            5   \n",
       "1     Dunnett, Dorothy  Jan 01, 2003         4.41          73            5   \n",
       "2       Palmer, Marian          1968         3.73          99            5   \n",
       "3       Tey, Josephine          1951         3.91       30976            5   \n",
       "4  Higginbotham, Susan  Jul 25, 2005         3.76        3649            4   \n",
       "\n",
       "      date_read     date_added  \\\n",
       "0  Jul 09, 2015  July 09, 2015   \n",
       "1          None  July 07, 2015   \n",
       "2  Jul 02, 2015  June 28, 2015   \n",
       "3          None  June 28, 2015   \n",
       "4  Jan 14, 2018  June 11, 2015   \n",
       "\n",
       "                                         review_text  \\\n",
       "0                                               None   \n",
       "1                                               None   \n",
       "2              \"The Cat, the Rat, and Lovell our Dog   \n",
       "3  I'll admit it - after reading Sharon Kay Penma...   \n",
       "4  This is a time in the history of England that ...   \n",
       "\n",
       "                                           shelf_url  \n",
       "0  https://www.goodreads.com/review/list/40648422...  \n",
       "1  https://www.goodreads.com/review/list/40648422...  \n",
       "2  https://www.goodreads.com/review/list/40648422...  \n",
       "3  https://www.goodreads.com/review/list/40648422...  \n",
       "4  https://www.goodreads.com/review/list/40648422...  "
      ]
     },
     "execution_count": 7,
     "metadata": {},
     "output_type": "execute_result"
    }
   ],
   "source": [
    "schema = pa.schema([\n",
    "    (\"title\", pa.string()),\n",
    "    (\"isbn13\", pa.int64()),\n",
    "    (\"author\", pa.string()),\n",
    "    (\"date_pub\", pa.string()),\n",
    "    (\"mean_rating\", pa.float64()),\n",
    "    (\"num_rating\", pa.int64()),\n",
    "    (\"user_rating\", pa.int64()),\n",
    "    (\"date_read\", pa.string()),\n",
    "    (\"date_added\", pa.string()),\n",
    "    (\"review_text\", pa.string()),\n",
    "    (\"shelf_url\", pa.string()),\n",
    "])\n",
    "df = pq.read_table('../data', schema=schema).to_pandas()\n",
    "# df.dtypes\n",
    "print(len(df))\n",
    "df.head()"
   ]
  },
  {
   "cell_type": "code",
   "execution_count": 98,
   "id": "061d3987",
   "metadata": {},
   "outputs": [
    {
     "name": "stdout",
     "output_type": "stream",
     "text": [
      "220\n"
     ]
    },
    {
     "data": {
      "text/plain": [
       "0                                                  None\n",
       "1     This review is for the Fionavar Tapestry trilo...\n",
       "2                                                  None\n",
       "3                                                  None\n",
       "4                                                  None\n",
       "5     I read this for a book club. And I am still pr...\n",
       "6                                                  None\n",
       "7                                                  None\n",
       "8                                                  None\n",
       "9                                                  None\n",
       "10                                                 None\n",
       "11                                                 None\n",
       "12    I enjoyed this story very much. It's a period ...\n",
       "13                                                 None\n",
       "14    My friend who is a librarian suggested that I ...\n",
       "15    I love Stella Riley. Her books are amazing. Wh...\n",
       "16                                                 None\n",
       "17                                                 None\n",
       "18                                                 None\n",
       "19    To be honest Riley had me with this book right...\n",
       "Name: review_text, dtype: object"
      ]
     },
     "execution_count": 98,
     "metadata": {},
     "output_type": "execute_result"
    }
   ],
   "source": [
    "df = pq.read_table('../data').to_pandas()\n",
    "print(len(df))\n",
    "df[\"review_text\"][:20]"
   ]
  },
  {
   "cell_type": "code",
   "execution_count": 22,
   "id": "c9b6a367",
   "metadata": {},
   "outputs": [
    {
     "data": {
      "text/plain": [
       "title: string\n",
       "isbn13: int64\n",
       "author: string\n",
       "date_pub: string\n",
       "mean_rating: double\n",
       "num_rating: int64\n",
       "user_rating: int64\n",
       "date_read: string\n",
       "date_added: string\n",
       "review_text: null\n",
       "shelf_url: string"
      ]
     },
     "execution_count": 22,
     "metadata": {},
     "output_type": "execute_result"
    }
   ],
   "source": [
    "schema = pa.schema([\n",
    "    (\"title\", pa.string()),\n",
    "    (\"isbn13\", pa.int32()),\n",
    "    (\"author\", pa.string()),\n",
    "    (\"date_pub\", pa.string()),\n",
    "    (\"mean_rating\", pa.float32()),\n",
    "    (\"num_rating\", pa.int32()),\n",
    "    (\"user_rating\", pa.int32()),\n",
    "    (\"date_read\", pa.string()),\n",
    "    (\"date_added\", pa.string()),\n",
    "    (\"review_text\", pa.string()),\n",
    "    (\"shelf_url\", pa.string()),\n",
    "])\n",
    "df = pq.read_table('../data/00001.parquet')\n",
    "df.schema"
   ]
  },
  {
   "cell_type": "code",
   "execution_count": 18,
   "id": "3bfa7cb4",
   "metadata": {},
   "outputs": [
    {
     "data": {
      "text/plain": [
       "pyarrow.lib.Schema"
      ]
     },
     "execution_count": 18,
     "metadata": {},
     "output_type": "execute_result"
    }
   ],
   "source": [
    "type(df.schema)"
   ]
  },
  {
   "cell_type": "code",
   "execution_count": 19,
   "id": "d2e1358b",
   "metadata": {},
   "outputs": [
    {
     "data": {
      "text/plain": [
       "some_int: int32\n",
       "some_string: string"
      ]
     },
     "execution_count": 19,
     "metadata": {},
     "output_type": "execute_result"
    }
   ],
   "source": [
    "schema = pa.schema([\n",
    "    (\"title\": pa.string()),\n",
    "    (\"isbn13\": pa.int32()),\n",
    "    (\"author\": pa.string()),\n",
    "    (\"date_pub\": pa.string()),\n",
    "    (\"mean_rating\": pa.float()),\n",
    "    (\"num_rating\": pa.int32()),\n",
    "    (\"user_rating\": pa.int32()),\n",
    "    (\"date_read\": pa.string()),\n",
    "    (\"date_added\": pa.string()),\n",
    "    (\"review_text\": pa.string()),\n",
    "    (\"shelf_url\": pa.string()),\n",
    "])"
   ]
  },
  {
   "cell_type": "code",
   "execution_count": null,
   "id": "1cb96247",
   "metadata": {},
   "outputs": [],
   "source": []
  },
  {
   "cell_type": "code",
   "execution_count": null,
   "id": "7fd4a659",
   "metadata": {},
   "outputs": [],
   "source": []
  },
  {
   "cell_type": "code",
   "execution_count": 77,
   "id": "9300ecb4",
   "metadata": {},
   "outputs": [],
   "source": [
    "def convert_rating(rating: str):\n",
    "    rating_map = {\n",
    "        \"x\": 0,\n",
    "        \"y\": 1,\n",
    "    }\n",
    "    for k, v in rating_map.items():\n",
    "        if rating == k:\n",
    "            return v"
   ]
  },
  {
   "cell_type": "code",
   "execution_count": 80,
   "id": "08bb742e",
   "metadata": {},
   "outputs": [],
   "source": [
    "a = [\n",
    "    {\"a\": \"x\", \"b\": 10},\n",
    "    {\"a\": \"y\", \"b\": 11},\n",
    "    {\"a\": \"x\", \"b\": 12},\n",
    "]\n"
   ]
  },
  {
   "cell_type": "code",
   "execution_count": 81,
   "id": "e55ad0fc",
   "metadata": {},
   "outputs": [
    {
     "name": "stdout",
     "output_type": "stream",
     "text": [
      "809 ns ± 71.5 ns per loop (mean ± std. dev. of 7 runs, 1000000 loops each)\n"
     ]
    }
   ],
   "source": [
    "%%timeit\n",
    "for d in a:\n",
    "    d[\"a\"] = convert_rating(d[\"a\"])"
   ]
  },
  {
   "cell_type": "code",
   "execution_count": 85,
   "id": "e8185b9e",
   "metadata": {},
   "outputs": [],
   "source": [
    "def convert_rating(d: dict):\n",
    "    rating_map = {\n",
    "        \"x\": 0,\n",
    "        \"y\": 1,\n",
    "    }\n",
    "    for k, v in rating_map.items():\n",
    "        if d[\"a\"] == k:\n",
    "            d[\"a\"] =  v\n",
    "    return d"
   ]
  },
  {
   "cell_type": "code",
   "execution_count": 90,
   "id": "bdcc9edc",
   "metadata": {},
   "outputs": [],
   "source": [
    "a = [\n",
    "    {\"a\": \"x\", \"b\": 10},\n",
    "    {\"a\": \"y\", \"b\": 11},\n",
    "    {\"a\": \"x\", \"b\": 12},\n",
    "]\n",
    "# a = list(map(convert_rating, a))\n",
    "# a"
   ]
  },
  {
   "cell_type": "code",
   "execution_count": 92,
   "id": "9c13d4d3",
   "metadata": {},
   "outputs": [
    {
     "name": "stdout",
     "output_type": "stream",
     "text": [
      "994 ns ± 41 ns per loop (mean ± std. dev. of 7 runs, 1000000 loops each)\n"
     ]
    }
   ],
   "source": [
    "%%timeit\n",
    "list(map(convert_rating, a))"
   ]
  },
  {
   "cell_type": "code",
   "execution_count": null,
   "id": "04c06e3d",
   "metadata": {},
   "outputs": [],
   "source": []
  },
  {
   "cell_type": "code",
   "execution_count": null,
   "id": "3b8467e4",
   "metadata": {},
   "outputs": [],
   "source": []
  },
  {
   "cell_type": "code",
   "execution_count": 4,
   "id": "f7ffe881",
   "metadata": {},
   "outputs": [],
   "source": [
    "import locale\n",
    "locale.setlocale(locale.LC_ALL, 'en_US.UTF-8')  # this handles commas in string numbers\n",
    "\n",
    "def strip_convert(val, **kwargs):\n",
    "    ## should this be in the pipeline adapter?\n",
    "    # various fields sometimes return None, empty string, or only whitespace\n",
    "    try:\n",
    "        val = val.strip()\n",
    "    except AttributeError:\n",
    "        pass\n",
    "\n",
    "    if not val:\n",
    "        return None\n",
    "    else:\n",
    "        for type_check, convert in zip([\"is_int\", \"is_float\"], [int, float]):\n",
    "            if kwargs.get(type_check, False):\n",
    "                val = convert(locale.atof(val))  # remove any commas that might be there; atof=float\n",
    "        return val"
   ]
  },
  {
   "cell_type": "code",
   "execution_count": 5,
   "id": "7516a033",
   "metadata": {},
   "outputs": [
    {
     "data": {
      "text/plain": [
       "1"
      ]
     },
     "execution_count": 5,
     "metadata": {},
     "output_type": "execute_result"
    }
   ],
   "source": [
    "a = \"1, \"\n",
    "strip_convert(a, is_int=True)"
   ]
  },
  {
   "cell_type": "code",
   "execution_count": 16,
   "id": "5809d866",
   "metadata": {},
   "outputs": [
    {
     "data": {
      "text/plain": [
       "['what', 'is', 'this,']"
      ]
     },
     "execution_count": 16,
     "metadata": {},
     "output_type": "execute_result"
    }
   ],
   "source": [
    "from toolz import curry\n",
    "b = [\"what\", \"is \", \"this, \"]\n",
    "sc = curry(strip_convert)(is_int=True)\n",
    "list(map(strip_convert, b))"
   ]
  },
  {
   "cell_type": "code",
   "execution_count": 140,
   "id": "05b5d865",
   "metadata": {},
   "outputs": [
    {
     "name": "stdout",
     "output_type": "stream",
     "text": [
      "args: ('w',)\n",
      "kwargs: {'huh': True}\n"
     ]
    },
    {
     "data": {
      "text/plain": [
       "'got it: w'"
      ]
     },
     "execution_count": 140,
     "metadata": {},
     "output_type": "execute_result"
    }
   ],
   "source": [
    "def b(*args, **kwargs):\n",
    "    print(f\"args: {args}\")\n",
    "    print(f\"kwargs: {kwargs}\")\n",
    "    if kwargs.get(\"huh\"):\n",
    "        return f\"got it: {args[0]}\"\n",
    "    else:\n",
    "        return f\"nope: {args[0]}\"\n",
    "        \n",
    "b(\"w\", huh=True)"
   ]
  },
  {
   "cell_type": "code",
   "execution_count": 141,
   "id": "257d57aa",
   "metadata": {},
   "outputs": [
    {
     "name": "stdout",
     "output_type": "stream",
     "text": [
      "args: ()\n",
      "kwargs: {'huh': True}\n"
     ]
    },
    {
     "data": {
      "text/plain": [
       "('longer str: m', {'huh': True})"
      ]
     },
     "execution_count": 141,
     "metadata": {},
     "output_type": "execute_result"
    }
   ],
   "source": [
    "def a(s, *args, **kwargs):\n",
    "    print(f\"args: {args}\")\n",
    "    print(f\"kwargs: {kwargs}\")\n",
    "    return f\"longer str: {s}\", kwargs\n",
    "a(\"m\", huh=True)"
   ]
  },
  {
   "cell_type": "code",
   "execution_count": 142,
   "id": "f3a260dc",
   "metadata": {},
   "outputs": [
    {
     "name": "stdout",
     "output_type": "stream",
     "text": [
      "args: ()\n",
      "kwargs: {}\n",
      "args: (('longer str: m', {}),)\n",
      "kwargs: {'huh': True}\n"
     ]
    },
    {
     "data": {
      "text/plain": [
       "\"got it: ('longer str: m', {})\""
      ]
     },
     "execution_count": 142,
     "metadata": {},
     "output_type": "execute_result"
    }
   ],
   "source": [
    "b(a(\"m\"), huh=True)"
   ]
  },
  {
   "cell_type": "code",
   "execution_count": 143,
   "id": "5c83b71a",
   "metadata": {},
   "outputs": [
    {
     "name": "stdout",
     "output_type": "stream",
     "text": [
      "args: ()\n",
      "kwargs: {'huh': True}\n",
      "args: ('longer str: m', {'huh': True})\n",
      "kwargs: {}\n"
     ]
    },
    {
     "data": {
      "text/plain": [
       "'nope: longer str: m'"
      ]
     },
     "execution_count": 143,
     "metadata": {},
     "output_type": "execute_result"
    }
   ],
   "source": [
    "b(*a(\"m\", huh=True))"
   ]
  },
  {
   "cell_type": "code",
   "execution_count": 150,
   "id": "dd9dd579",
   "metadata": {},
   "outputs": [],
   "source": [
    "a = ['I did not choose this fate. But I will not walk away from it.', 'Children have been disappearing from across Menaiya for longer than Amraeya ni Ansarim can remember. When her friend’s sister is snatched, Rae knows she can’t look away any longer - even if that means seeking answers from the royal court, where her country upbringing and clubfoot will only invite ridicule.', None, 'Yet the court holds its share of surprises. There she discovers an ally in the foreign princess, who recruits her as an attendant. Armed with the princess’s support, Rae seeks answers in the dark city streets, finding unexpected help in a rough-around-the-edges street thief with secrets of his own. But treachery runs deep, and the more Rae uncovers, the more she endangers the kingdom itself.']"
   ]
  },
  {
   "cell_type": "code",
   "execution_count": 153,
   "id": "d1ce5d29",
   "metadata": {},
   "outputs": [
    {
     "ename": "AttributeError",
     "evalue": "'list' object has no attribute 'replace'",
     "output_type": "error",
     "traceback": [
      "\u001b[0;31m---------------------------------------------------------------------------\u001b[0m",
      "\u001b[0;31mAttributeError\u001b[0m                            Traceback (most recent call last)",
      "\u001b[0;32m/tmp/ipykernel_18607/2616466472.py\u001b[0m in \u001b[0;36m<module>\u001b[0;34m\u001b[0m\n\u001b[0;32m----> 1\u001b[0;31m \u001b[0;34m\"\\n\"\u001b[0m\u001b[0;34m.\u001b[0m\u001b[0mjoin\u001b[0m\u001b[0;34m(\u001b[0m\u001b[0ma\u001b[0m\u001b[0;34m.\u001b[0m\u001b[0mreplace\u001b[0m\u001b[0;34m(\u001b[0m\u001b[0;32mNone\u001b[0m\u001b[0;34m,\u001b[0m \u001b[0;34m\"\"\u001b[0m\u001b[0;34m)\u001b[0m\u001b[0;34m)\u001b[0m\u001b[0;34m\u001b[0m\u001b[0;34m\u001b[0m\u001b[0m\n\u001b[0m",
      "\u001b[0;31mAttributeError\u001b[0m: 'list' object has no attribute 'replace'"
     ]
    }
   ],
   "source": [
    "\"\\n\".join(a.replace(None, \"\"))"
   ]
  },
  {
   "cell_type": "code",
   "execution_count": 160,
   "id": "b375e636",
   "metadata": {},
   "outputs": [
    {
     "data": {
      "text/plain": [
       "'I did not choose this fate. But I will not walk away from it.\\nChildren have been disappearing from across Menaiya for longer than Amraeya ni Ansarim can remember. When her friend’s sister is snatched, Rae knows she can’t look away any longer - even if that means seeking answers from the royal court, where her country upbringing and clubfoot will only invite ridicule.\\nYet the court holds its share of surprises. There she discovers an ally in the foreign princess, who recruits her as an attendant. Armed with the princess’s support, Rae seeks answers in the dark city streets, finding unexpected help in a rough-around-the-edges street thief with secrets of his own. But treachery runs deep, and the more Rae uncovers, the more she endangers the kingdom itself.'"
      ]
     },
     "execution_count": 160,
     "metadata": {},
     "output_type": "execute_result"
    }
   ],
   "source": [
    "def not_none(l):\n",
    "    return l is not None\n",
    "\"\\n\".join(filter(not_none, a))"
   ]
  },
  {
   "cell_type": "code",
   "execution_count": 159,
   "id": "bbaf795e",
   "metadata": {},
   "outputs": [
    {
     "data": {
      "text/plain": [
       "True"
      ]
     },
     "execution_count": 159,
     "metadata": {},
     "output_type": "execute_result"
    }
   ],
   "source": [
    "not_none(a)"
   ]
  },
  {
   "cell_type": "code",
   "execution_count": 167,
   "id": "6030cc04",
   "metadata": {},
   "outputs": [
    {
     "data": {
      "text/plain": [
       "True"
      ]
     },
     "execution_count": 167,
     "metadata": {},
     "output_type": "execute_result"
    }
   ],
   "source": [
    "from collections.abc import Iterable   # drop `.abc` with Python 2.7 or lower\n",
    "def iterable(obj):\n",
    "    return isinstance(obj, Iterable)\n",
    "iterable(a)"
   ]
  },
  {
   "cell_type": "code",
   "execution_count": 168,
   "id": "2777159e",
   "metadata": {},
   "outputs": [
    {
     "data": {
      "text/plain": [
       "True"
      ]
     },
     "execution_count": 168,
     "metadata": {},
     "output_type": "execute_result"
    }
   ],
   "source": [
    "iterable(\"str\")\n"
   ]
  },
  {
   "cell_type": "code",
   "execution_count": 169,
   "id": "f298fb2a",
   "metadata": {},
   "outputs": [
    {
     "data": {
      "text/plain": [
       "3"
      ]
     },
     "execution_count": 169,
     "metadata": {},
     "output_type": "execute_result"
    }
   ],
   "source": [
    "len(\"str\")"
   ]
  },
  {
   "cell_type": "code",
   "execution_count": null,
   "id": "1460253f",
   "metadata": {},
   "outputs": [],
   "source": []
  }
 ],
 "metadata": {
  "kernelspec": {
   "display_name": "Python 3 (ipykernel)",
   "language": "python",
   "name": "python3"
  },
  "language_info": {
   "codemirror_mode": {
    "name": "ipython",
    "version": 3
   },
   "file_extension": ".py",
   "mimetype": "text/x-python",
   "name": "python",
   "nbconvert_exporter": "python",
   "pygments_lexer": "ipython3",
   "version": "3.9.7"
  }
 },
 "nbformat": 4,
 "nbformat_minor": 5
}
